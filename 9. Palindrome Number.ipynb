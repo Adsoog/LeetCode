{
 "cells": [
  {
   "cell_type": "markdown",
   "metadata": {},
   "source": [
    "# 9. Palindrome Number"
   ]
  },
  {
   "cell_type": "markdown",
   "metadata": {},
   "source": [
    "<h3>Given an integer x, return true if x is a palindrome, and false otherwise.</h3>"
   ]
  },
  {
   "cell_type": "markdown",
   "metadata": {},
   "source": [
    "<h5>Example 1:\n",
    "\n",
    "Input: x = 121\n",
    "Output: true\n",
    "Explanation: 121 reads as 121 from left to right and from right to left.\n",
    "Example 2:\n",
    "\n",
    "Input: x = -121\n",
    "Output: false\n",
    "Explanation: From left to right, it reads -121. From right to left, it becomes 121-. Therefore it is not a palindrome.\n",
    "Example 3:\n",
    "\n",
    "Input: x = 10\n",
    "Output: false\n",
    "Explanation: Reads 01 from right to left. Therefore it is not a palindrome.</h5>"
   ]
  },
  {
   "cell_type": "code",
   "execution_count": 9,
   "metadata": {},
   "outputs": [
    {
     "data": {
      "text/plain": [
       "True"
      ]
     },
     "execution_count": 9,
     "metadata": {},
     "output_type": "execute_result"
    }
   ],
   "source": [
    "class Solution:\n",
    "    def isPalindrome(self, x: int) -> bool:\n",
    "        y = str(x)\n",
    "        if y[::-1] == y:\n",
    "            return True\n",
    "        else: False\n",
    "\n",
    "palindromo = Solution()        \n",
    "palindromo.isPalindrome(121)"
   ]
  },
  {
   "cell_type": "markdown",
   "metadata": {},
   "source": [
    "The result in the upper cell is correct, but now we need to achieve the same without converting x into a string. How we can do that"
   ]
  },
  {
   "cell_type": "code",
   "execution_count": 14,
   "metadata": {},
   "outputs": [
    {
     "data": {
      "text/plain": [
       "True"
      ]
     },
     "execution_count": 14,
     "metadata": {},
     "output_type": "execute_result"
    }
   ],
   "source": [
    "class Solution:\n",
    "    def isPalindrome(self, x: int) -> bool:\n",
    "\n",
    "        original = x\n",
    "        reversed = 0\n",
    "        \n",
    "        if x < 0:\n",
    "            return False\n",
    "        \n",
    "        while x > 0:\n",
    "            digit = x % 10 # aqui digito se convierte en 3 seria asi// ahora 2 es 0 \n",
    "            reversed = reversed * 10 + digit #aqui reversed es 4 // reversed = 4 * 10 + 3 esto da 43\n",
    "            # // ok ahora digit es 2 seria asi reversed * 10 + 2 // 43 * 10 + 2 = 432\n",
    "            x = x//10 # aqui x es 23 // ahora x es 2 // ok ahora x//10 que seria 2//10 es 0 \n",
    "            # por lo tanto x al final seria 0 si el numero entregado es 234\n",
    "\n",
    "        if reversed == original:\n",
    "            return True\n",
    "        else: \n",
    "            return False\n",
    "\n",
    "\n",
    "\n",
    "palindromo = Solution()        \n",
    "palindromo.isPalindrome(121)"
   ]
  },
  {
   "cell_type": "code",
   "execution_count": 12,
   "metadata": {},
   "outputs": [
    {
     "data": {
      "text/plain": [
       "False"
      ]
     },
     "execution_count": 12,
     "metadata": {},
     "output_type": "execute_result"
    }
   ],
   "source": [
    "class Solution:\n",
    "    def isPalindrome(self, x: int) -> bool:\n",
    "        # Handling negative numbers\n",
    "        if x < 0:\n",
    "            return False\n",
    "\n",
    "        # Initialize variables\n",
    "        original = x\n",
    "        reverse = 0\n",
    "\n",
    "        # Reverse the number\n",
    "        while x > 0:\n",
    "            digit = x % 10\n",
    "            reverse = reverse * 10 + digit\n",
    "            x //= 10\n",
    "\n",
    "        # Check if the reversed number equals the original number\n",
    "        return original == reverse\n",
    "    \n",
    "palindromo = Solution()        \n",
    "palindromo.isPalindrome(234)"
   ]
  },
  {
   "cell_type": "markdown",
   "metadata": {},
   "source": [
    "Por lo tanto tenemos 2 maneras de resolver el palindromo y la mejor termina siendo la primera de convertirlo en un string pero la segunda nos ayuda a comprender conceptos basicos de matematica."
   ]
  }
 ],
 "metadata": {
  "kernelspec": {
   "display_name": "Python 3",
   "language": "python",
   "name": "python3"
  },
  "language_info": {
   "codemirror_mode": {
    "name": "ipython",
    "version": 3
   },
   "file_extension": ".py",
   "mimetype": "text/x-python",
   "name": "python",
   "nbconvert_exporter": "python",
   "pygments_lexer": "ipython3",
   "version": "3.11.5"
  }
 },
 "nbformat": 4,
 "nbformat_minor": 2
}
