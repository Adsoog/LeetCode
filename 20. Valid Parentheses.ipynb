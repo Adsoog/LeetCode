{
 "cells": [
  {
   "cell_type": "markdown",
   "metadata": {},
   "source": [
    "<span style=\"color:green\">Cuando me enfrenté al problema de verificar el equilibrio de paréntesis, me encontré con dos conceptos nuevos: la pila (<span style=\"color:yellow\">stack</span>) y el mapa (<span style=\"color:yellow\">hash map</span>). Aprendí que la pila es como una pila de platos y el mapa es como un diccionario que relaciona elementos.</span>\n",
    "\n",
    "<span style=\"color:green\">Al resolver el problema, descubrí que al usar <span style=\"color:yellow\">if stack</span>, verificaba si la pila tenía elementos para evitar errores. Lo más complicado fue entender que la comparación se hacía con los valores del mapa y no con las claves. Esto significaba que verificaba si los paréntesis de cierre coincidían con sus correspondientes paréntesis de apertura.</span>\n",
    "\n",
    "<span style=\"color:green; font-size:120%\">Problema resuelto campeón!!!</span>\n"
   ]
  },
  {
   "cell_type": "markdown",
   "metadata": {},
   "source": [
    "# 20. Valid Parentheses"
   ]
  },
  {
   "cell_type": "markdown",
   "metadata": {},
   "source": [
    "Given a string \"s\" containing just the characters '(', ')', '{', '}', '[' and ']', determine if the input string is valid.\n",
    "\n",
    "An input string is valid if:\n",
    "\n",
    "* Open brackets must be closed by the same type of brackets.\n",
    "* Open brackets must be closed in the correct order.\n",
    "\n",
    "Every close bracket has a corresponding open bracket of the same type."
   ]
  },
  {
   "cell_type": "markdown",
   "metadata": {},
   "source": [
    "### Descripción del problema\n",
    "\n",
    "Se nos pide determinar si una cadena de paréntesis es válida o no. Una cadena es válida si:\n",
    "- Los paréntesis abiertos tienen sus correspondientes paréntesis de cierre del mismo tipo.\n",
    "- Los paréntesis se cierran en el orden correcto."
   ]
  },
  {
   "cell_type": "markdown",
   "metadata": {},
   "source": [
    "### Enfoque de solución\n",
    "Para resolver este problema, utilizamos un enfoque basado en el uso de una pila (stack). El algoritmo recorre la cadena de paréntesis y realiza lo siguiente:\n",
    "- Cada vez que se encuentra un paréntesis de apertura, se agrega a la pila.\n",
    "- Cuando se encuentra un paréntesis de cierre, se verifica si coincide con el paréntesis en la cima de la pila. Si coincide, se elimina de la pila; de lo contrario, la cadena no es válida.\n"
   ]
  },
  {
   "cell_type": "code",
   "execution_count": null,
   "metadata": {},
   "outputs": [],
   "source": [
    "def isValid(s):\n",
    "    # Creamos una pila vacía para almacenar los paréntesis abiertos\n",
    "    stack = []\n",
    "    # Definimos un diccionario para mapear paréntesis de cierre con sus respectivos de apertura\n",
    "    mapping = {')': '(', '}': '{', ']': '['}\n",
    "\n",
    "    # Iteramos a través de cada carácter en la cadena\n",
    "    for char in s:\n",
    "        # Si el carácter actual es un paréntesis de cierre\n",
    "        if char in mapping:\n",
    "            # Verificamos si la pila no está vacía y el último elemento en la pila coincide\n",
    "            # con el paréntesis de apertura correspondiente en el diccionario\n",
    "            if stack and stack[-1] == mapping[char]:\n",
    "                # Si coincide, eliminamos el elemento de la pila\n",
    "                stack.pop()\n",
    "            else:\n",
    "                # Si no coincide, la cadena no es válida, devolvemos False\n",
    "                return False\n",
    "        else:\n",
    "            # Si el carácter actual es un paréntesis de apertura, lo agregamos a la pila\n",
    "            stack.append(char)\n",
    "\n",
    "    # Después de recorrer todos los caracteres\n",
    "    # Verificamos si la pila está vacía, si es así, la cadena es válida, devolvemos True\n",
    "    # Si la pila no está vacía, la cadena no es válida, devolvemos False\n",
    "    return not stack\n"
   ]
  },
  {
   "cell_type": "code",
   "execution_count": null,
   "metadata": {},
   "outputs": [],
   "source": [
    "class Solution:\n",
    "    def isValid(self, s:str) -> bool:\n",
    "        stack = []\n",
    "        closeToOpen = { \")\":\"(\", \"]\":\"[\" , \"}\":\"{\"} \n",
    "\n",
    "        for c in s :\n",
    "            if c in closeToOpen:\n",
    "                if stack and stack[-1] == closeToOpen[c]:\n",
    "                    stack.pop()\n",
    "                else:\n",
    "                    return False\n",
    "            else:\n",
    "                stack.append(c)\n",
    "\n",
    "        return True if not stack else False"
   ]
  },
  {
   "cell_type": "markdown",
   "metadata": {},
   "source": [
    "Example 1:\n",
    "\n",
    "Input: s = \"()\"\n",
    "Output: true\n",
    "Example 2:\n",
    "\n",
    "Input: s = \"()[]{}\"\n",
    "Output: true\n",
    "Example 3:\n",
    "\n",
    "Input: s = \"(]\"\n",
    "Output: false"
   ]
  },
  {
   "cell_type": "code",
   "execution_count": null,
   "metadata": {},
   "outputs": [],
   "source": [
    "# Ejemplos válidos\n",
    "print(isValid(\"()\"))        # Devolverá True\n",
    "print(isValid(\"()[]{}\"))    # Devolverá True\n",
    "print(isValid(\"{[()]}\"))    # Devolverá True\n",
    "print(isValid(\"{()}[]\"))    # Devolverá True\n",
    "\n",
    "# Ejemplos inválidos\n",
    "print(isValid(\"(]\"))        # Devolverá False\n",
    "print(isValid(\"([)]\"))      # Devolverá False\n",
    "print(isValid(\"{[}\"))       # Devolverá False\n",
    "print(isValid(\"((()))))\"))  # Devolverá False\n"
   ]
  },
  {
   "cell_type": "markdown",
   "metadata": {},
   "source": [
    "Constraints:\n",
    "\n",
    "1 <= s.length <= 104\n",
    "s consists of parentheses only '()[]{}'."
   ]
  },
  {
   "cell_type": "markdown",
   "metadata": {},
   "source": [
    "- **Pila (Stack):** Una estructura de datos que sigue el principio de \"último en entrar, primero en salir\" (LIFO) y se utiliza para almacenar elementos temporalmente.\n",
    "\n",
    "- **Balanceo de paréntesis:** El proceso de verificar si una secuencia de paréntesis está correctamente emparejada y balanceada, es decir, si cada paréntesis de apertura tiene su correspondiente paréntesis de cierre en el orden correcto.\n",
    "\n",
    "- **Algoritmo de verificación de paréntesis:** Métodos y técnicas para verificar si una cadena que contiene paréntesis (u otros símbolos) está balanceada y correcta en términos de sus aperturas y cierres.\n",
    "\n",
    "- **Corchetes, llaves y paréntesis:** Símbolos utilizados para agrupar expresiones en programación y matemáticas, donde es esencial mantener su equilibrio y correspondencia.\n",
    "\n",
    "- **Validación de estructuras de datos:** Procesos algorítmicos que aseguran que las estructuras de datos, como listas, pilas y colas, mantengan su integridad y se utilicen correctamente.\n",
    "\n",
    "- **Estructura de datos de tipo pila:** Exploración de la implementación y uso de pilas en la programación, así como sus aplicaciones en la resolución de problemas.\n",
    "\n",
    "- **Algoritmos de tiempo lineal:** Algoritmos que ejecutan un número constante de operaciones por cada elemento de entrada, como el algoritmo para verificar el equilibrio de paréntesis.\n",
    "\n",
    "- **Análisis de complejidad:** Estudio del tiempo y espacio requeridos por un algoritmo para su ejecución, lo que incluye la eficiencia de los algoritmos relacionados con la verificación de paréntesis.\n"
   ]
  }
 ],
 "metadata": {
  "kernelspec": {
   "display_name": "Python 3",
   "language": "python",
   "name": "python3"
  },
  "language_info": {
   "codemirror_mode": {
    "name": "ipython",
    "version": 3
   },
   "file_extension": ".py",
   "mimetype": "text/x-python",
   "name": "python",
   "nbconvert_exporter": "python",
   "pygments_lexer": "ipython3",
   "version": "3.11.5"
  }
 },
 "nbformat": 4,
 "nbformat_minor": 2
}
